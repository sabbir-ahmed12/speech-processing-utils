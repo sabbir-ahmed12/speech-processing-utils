{
 "cells": [
  {
   "cell_type": "markdown",
   "id": "00e7ae02",
   "metadata": {},
   "source": [
    "<div align='center'>\n",
    "    <h1>Spectrogram Generator</h1>\n",
    "</div>\n",
    "\n",
    "- Use `resample_audio()` function to downsample audio samples.\n",
    "- Use `remove_silence()` function to remove silent parts from audio. `librosa.effects.trim()` can be used too.\n",
    "- If you don't require the above two functions, provide the **orig_audio** as input to `librosa.stft()` like -\n",
    "\n",
    "```\n",
    "librosa.stft(orig_audio, n_fft=256)\n",
    "```\n",
    "- Also, try increasing or decreasing the **thresh_amp** parameter of `remove_silence()` function to check if the voice is getting clipped.\n",
    "- In case you run the code in colab or linux, replace the backward slashes`(\\)` with forward slash`(/)` and also remove the letter 'r' written before the path name. For example -\n",
    "\n",
    "```\n",
    "ROOT_PATH = 'home/khadija/Desktop/Speech Enhancement'\n",
    "```\n",
    "- ***NOTE : Maintain the directory structure provided below to execute the program without any error.***\n",
    "```\n",
    "Speech Enhancement\n",
    "├───Code\n",
    "│   └───spectrogram_generator.ipynb\n",
    "├───Test\n",
    "│   ├───Clean\n",
    "│   └───Noisy\n",
    "├───Train\n",
    "│   ├───Clean\n",
    "│   └───Noisy\n",
    "└───Valid\n",
    "    ├───Clean\n",
    "    └───Noisy\n",
    "```"
   ]
  },
  {
   "cell_type": "code",
   "execution_count": 2,
   "id": "5c364cd1",
   "metadata": {},
   "outputs": [],
   "source": [
    "import os\n",
    "import librosa\n",
    "import numpy as np\n",
    "import librosa.display\n",
    "import matplotlib.pyplot as plt"
   ]
  },
  {
   "cell_type": "markdown",
   "id": "c199e916",
   "metadata": {},
   "source": [
    "**Define the root path that contains the directories Test, Train and Valid.**"
   ]
  },
  {
   "cell_type": "code",
   "execution_count": null,
   "id": "52282b9d",
   "metadata": {},
   "outputs": [],
   "source": [
    "ROOT_PATH = r'C:\\Users\\sabbir\\Desktop\\Speech Enhancement'\n",
    "\n",
    "TRAIN_PATH = os.path.join(ROOT_PATH, 'Train')\n",
    "VALID_PATH = os.path.join(ROOT_PATH, 'Valid')\n",
    "TEST_PATH = os.path.join(ROOT_PATH, 'Test')"
   ]
  },
  {
   "cell_type": "code",
   "execution_count": null,
   "id": "e4bf0973",
   "metadata": {},
   "outputs": [],
   "source": [
    "# Creating a root directory to save all images\n",
    "SPECTROGRAM_PATH = os.path.join(ROOT_PATH, 'Generated Spectrograms')\n",
    "\n",
    "# Directories in the root path\n",
    "root_path_dirs = os.listdir(ROOT_PATH)\n",
    "\n",
    "if 'Generated Spectrograms' not in root_path_dirs:\n",
    "    os.mkdir(SPECTROGRAM_PATH) "
   ]
  },
  {
   "cell_type": "code",
   "execution_count": null,
   "id": "5511569e",
   "metadata": {},
   "outputs": [],
   "source": [
    "# RESAMPLING AUDIO \n",
    "def resample_audio(orig_audio_clip, orig_sr, target_sr):\n",
    "    '''\n",
    "    Resamples audio signal to desired sampling frequency.\n",
    "    \n",
    "        Parameters:\n",
    "            orig_audio_clip (numpy.ndarray): An audio clip as numpy array  \n",
    "            orig_sr (int): Sampling rate of the orig_audio_clip\n",
    "            target_sr (int): Desired sampling rate \n",
    "        \n",
    "        Returns:\n",
    "            resampled_audio (numpy.array): Resampled audio having new sampling rate\n",
    "            target_sr (int): Sampling rate of the resampled audio\n",
    "    '''\n",
    "    resampled_audio = librosa.resample(orig_audio_clip, orig_sr=orig_sr, target_sr=target_sr)\n",
    "    \n",
    "    return resampled_audio, target_sr"
   ]
  },
  {
   "cell_type": "code",
   "execution_count": null,
   "id": "020df959",
   "metadata": {},
   "outputs": [],
   "source": [
    "def remove_silence(audio_data, sampling_rate, thresh_amp=0.03):\n",
    "    '''\n",
    "    Removes silent parts from audio using maximum amplitude.\n",
    "    \n",
    "        Parameters:\n",
    "            audio_data (numpy.ndarray): An audio sample as numpy array\n",
    "            sampling_rate (int): Sampling rate of the audio sample\n",
    "            thresh_amp (float): Threshold level to clip silent parts\n",
    "            \n",
    "        Returns:\n",
    "            audio_without_silence (numpy.ndarray): Audio sample without silent parts\n",
    "    '''\n",
    "    audio_normalized = audio_data/np.max(audio_data)\n",
    "    \n",
    "    frame_duration = 0.025\n",
    "    frame_size = int(np.round(frame_duration * sampling_rate))\n",
    "    audio_len = len(audio_normalized)\n",
    "    number_of_frames = int(np.floor(audio_len/frame_size))\n",
    "    \n",
    "    frames = np.zeros((number_of_frames, frame_size))\n",
    "    temp = 0\n",
    "    for frame_no in range(1, number_of_frames):\n",
    "        frames[frame_no] = audio_normalized[temp:temp + frame_size];\n",
    "        temp = temp + frame_size\n",
    "        \n",
    "    # Remove silence based on maximum amplitude\n",
    "    max_amplitude = np.amax(np.abs(frames), axis=1)\n",
    "    frames_above_thresh = np.argwhere(max_amplitude > thresh_amp)\n",
    "    frames_above_thresh = np.squeeze(frames_above_thresh, axis=1)\n",
    "    frames_without_silence = frames[frames_above_thresh]\n",
    "    audio_without_silence = frames_without_silence.flatten()\n",
    "    \n",
    "    return audio_without_silence"
   ]
  },
  {
   "cell_type": "code",
   "execution_count": null,
   "id": "0eb6dd0e",
   "metadata": {},
   "outputs": [],
   "source": [
    "# DEFINING GLOBAL VARIABLES\n",
    "TARGET_SR = 8000  # Target sampling rate\n",
    "\n",
    "def generate_spectrogram(path):\n",
    "    '''\n",
    "    Generates and saves spectrogram from directories recursively.\n",
    "    \n",
    "        Parameter:\n",
    "            path (str): Path of the root directory\n",
    "    '''\n",
    "    ROOT_DIR_NAME = path.split('\\\\')[-1]\n",
    "    SPECTROGRAM_ROOT_DIR = os.path.join(SPECTROGRAM_PATH, ROOT_DIR_NAME)\n",
    "    os.mkdir(SPECTROGRAM_ROOT_DIR)\n",
    "    \n",
    "    for sub_dir in os.listdir(path):\n",
    "        SUB_DIR_NAME = sub_dir\n",
    "        SPECTROGRAM_SUB_DIR = os.path.join(SPECTROGRAM_ROOT_DIR, SUB_DIR_NAME)\n",
    "        os.mkdir(SPECTROGRAM_SUB_DIR)\n",
    "        \n",
    "        for sample in os.listdir(os.path.join(path, sub_dir)):\n",
    "            SAMPLE_NAME = sample.split('.')[0]\n",
    "            IMG_NAME = os.path.join(SPECTROGRAM_SUB_DIR, SAMPLE_NAME)+ '.png'\n",
    "            orig_audio, orig_sr = librosa.load(os.path.join(path, sub_dir, sample), sr=None)\n",
    "            \n",
    "            # Resample audio to desired sampling rate\n",
    "            resampled_audio, _ = resample_audio(orig_audio, orig_sr=orig_sr, target_sr=TARGET_SR)\n",
    "            \n",
    "            # Remove silence from audio\n",
    "            audio_ws = remove_silence(resampled_audio, TARGET_SR)\n",
    "            \n",
    "            # Calculate STFT\n",
    "            stft = librosa.stft(audio_ws, n_fft=256)  # For fs=8000, n_fft=32ms\n",
    "            fig, ax = plt.subplots(figsize=(12, 8))\n",
    "            # Turn off the ticks and axes labels\n",
    "            ax.axis('off')\n",
    "            img = librosa.display.specshow(librosa.amplitude_to_db(np.abs(stft), ref=np.max), y_axis='log', x_axis='time')\n",
    "            img_fig = img.figure\n",
    "            img_fig.savefig(IMG_NAME, bbox_inches='tight')\n",
    "            plt.close(img_fig)"
   ]
  },
  {
   "cell_type": "code",
   "execution_count": null,
   "id": "5bf8b087",
   "metadata": {},
   "outputs": [],
   "source": [
    "# Generate spectrograms for training folder\n",
    "generate_spectrogram(TRAIN_PATH)"
   ]
  },
  {
   "cell_type": "code",
   "execution_count": null,
   "id": "a0ce16a9",
   "metadata": {},
   "outputs": [],
   "source": [
    "# Generate spectrograms for validation folder\n",
    "generate_spectrogram(VALID_PATH)"
   ]
  },
  {
   "cell_type": "code",
   "execution_count": null,
   "id": "a20bca60",
   "metadata": {},
   "outputs": [],
   "source": [
    "# Generate spectrograms for testing folder\n",
    "generate_spectrogram(TEST_PATH)"
   ]
  },
  {
   "cell_type": "markdown",
   "id": "541b220a",
   "metadata": {},
   "source": [
    "## Demo"
   ]
  },
  {
   "cell_type": "code",
   "execution_count": null,
   "id": "3e713875",
   "metadata": {},
   "outputs": [],
   "source": [
    "x, fs = librosa.load(r'C:\\Users\\sabbir\\Desktop\\Speech Enhancement\\Train\\Clean\\Clean_0.wav', sr=None)"
   ]
  },
  {
   "cell_type": "code",
   "execution_count": null,
   "id": "a7082d56",
   "metadata": {},
   "outputs": [],
   "source": [
    "from IPython.display import Audio"
   ]
  },
  {
   "cell_type": "code",
   "execution_count": null,
   "id": "899ab76a",
   "metadata": {},
   "outputs": [],
   "source": [
    "Audio(x, rate=fs)"
   ]
  },
  {
   "cell_type": "code",
   "execution_count": null,
   "id": "66b97416",
   "metadata": {},
   "outputs": [],
   "source": [
    "res_x, n_fs = resample_audio(x, fs, 8000)"
   ]
  },
  {
   "cell_type": "code",
   "execution_count": null,
   "id": "5d41dcfa",
   "metadata": {},
   "outputs": [],
   "source": [
    "Audio(res_x, rate=n_fs)"
   ]
  },
  {
   "cell_type": "code",
   "execution_count": null,
   "id": "f79329df",
   "metadata": {},
   "outputs": [],
   "source": [
    "x_ws = remove_silence(res_x, n_fs)"
   ]
  },
  {
   "cell_type": "code",
   "execution_count": null,
   "id": "e8af3e48",
   "metadata": {},
   "outputs": [],
   "source": [
    "Audio(x_ws, rate=n_fs)"
   ]
  },
  {
   "cell_type": "code",
   "execution_count": null,
   "id": "f88de221",
   "metadata": {},
   "outputs": [],
   "source": [
    "librosa.display.waveshow(res_x, sr=n_fs, alpha=0.5, label='Resampled Audio')\n",
    "plt.title('Resampled Audio')\n",
    "plt.xlabel('Time')\n",
    "plt.ylabel('Amplitude')\n",
    "plt.show()"
   ]
  },
  {
   "cell_type": "code",
   "execution_count": null,
   "id": "e85799ae",
   "metadata": {},
   "outputs": [],
   "source": [
    "librosa.display.waveshow(x_ws, sr=n_fs, color='r', alpha=0.5)\n",
    "plt.title('Audio Without Silent Parts')\n",
    "plt.xlabel('Time')\n",
    "plt.ylabel('Amplitude')\n",
    "plt.show()"
   ]
  },
  {
   "cell_type": "code",
   "execution_count": null,
   "id": "b9747aaa",
   "metadata": {},
   "outputs": [],
   "source": []
  }
 ],
 "metadata": {
  "kernelspec": {
   "display_name": "tfgpu",
   "language": "python",
   "name": "tfgpu"
  },
  "language_info": {
   "codemirror_mode": {
    "name": "ipython",
    "version": 3
   },
   "file_extension": ".py",
   "mimetype": "text/x-python",
   "name": "python",
   "nbconvert_exporter": "python",
   "pygments_lexer": "ipython3",
   "version": "3.10.4"
  }
 },
 "nbformat": 4,
 "nbformat_minor": 5
}
